{
  "nbformat": 4,
  "nbformat_minor": 0,
  "metadata": {
    "colab": {
      "provenance": []
    },
    "kernelspec": {
      "name": "python3",
      "display_name": "Python 3"
    },
    "language_info": {
      "name": "python"
    }
  },
  "cells": [
    {
      "cell_type": "markdown",
      "source": [
        "# Finding height bid rate"
      ],
      "metadata": {
        "id": "0QitqG4wWkKn"
      }
    },
    {
      "cell_type": "code",
      "execution_count": 1,
      "metadata": {
        "id": "TirgEJKcVjOh"
      },
      "outputs": [],
      "source": [
        "import pandas as pd\n",
        "import numpy as np\n"
      ]
    },
    {
      "cell_type": "code",
      "source": [
        "df=pd.read_csv(\"/content/analysis_id.csv\")"
      ],
      "metadata": {
        "id": "GFgdD4g0Wuaj"
      },
      "execution_count": 2,
      "outputs": []
    },
    {
      "cell_type": "code",
      "source": [
        "df.head()"
      ],
      "metadata": {
        "colab": {
          "base_uri": "https://localhost:8080/",
          "height": 516
        },
        "id": "2Ztdjc03W0J6",
        "outputId": "f4031e20-8576-4ddc-d481-18a8792a4c36"
      },
      "execution_count": 3,
      "outputs": [
        {
          "output_type": "execute_result",
          "data": {
            "text/plain": [
              "   Unnamed: 0            date_hour     client device_type        time_zone  \\\n",
              "0           0  2021-04-11T01:00:00  asc126828     Desktop  America/Chicago   \n",
              "1           1  2021-04-11T01:00:00  asc126828     Desktop  America/Chicago   \n",
              "2           2  2021-04-11T01:00:00  asc126828     Desktop  America/Chicago   \n",
              "3           3  2021-04-11T01:00:00  asc126828     Desktop  America/Chicago   \n",
              "4           4  2021-04-11T01:00:00  asc126828     Desktop  America/Chicago   \n",
              "\n",
              "  os_name        browser_name                      ad_unit     size  \\\n",
              "0   Linux  Chrome-85.04183133      div-gpt-ad-BT-D-Footers   728x90   \n",
              "1   Linux  Chrome-85.04183133      div-gpt-ad-BT-D-Footers   728x90   \n",
              "2   Linux  Chrome-85.04183133     div-gpt-ad-BT-D-InLine-1  300x250   \n",
              "3   Linux  Chrome-85.04183133  div-gpt-ad-BT-D-O-300x250-1  300x250   \n",
              "4   Linux  Chrome-85.04183133  div-gpt-ad-BT-D-O-300x250-1  300x250   \n",
              "\n",
              "      bidder  ... sum_time_to_respond   median  min_bid  max_bid   avg_bid  \\\n",
              "0  onemobile  ...              6614.0      NaN  0.58520  0.58520  0.585200   \n",
              "1  rhythmone  ...              5171.0      NaN  0.33945  0.34875  0.344100   \n",
              "2  undertone  ...              1523.0      NaN  0.96000  0.96000  0.960000   \n",
              "3             ...                 NaN      NaN      NaN      NaN       NaN   \n",
              "4  rhythmone  ...              3570.0  0.34875  0.34410  0.34875  0.346425   \n",
              "\n",
              "   sum_2nd_highest_bid  sum_prebid_winning_bid  sum_winning_bid  sum_nobid  \\\n",
              "0               0.5852                  0.5852              NaN        NaN   \n",
              "1                  NaN                     NaN              NaN        NaN   \n",
              "2                  NaN                     NaN              NaN        NaN   \n",
              "3                  NaN                     NaN              NaN        NaN   \n",
              "4                  NaN                     NaN              NaN        NaN   \n",
              "\n",
              "   sum_timeout  \n",
              "0          NaN  \n",
              "1          NaN  \n",
              "2          NaN  \n",
              "3          NaN  \n",
              "4          NaN  \n",
              "\n",
              "[5 rows x 27 columns]"
            ],
            "text/html": [
              "\n",
              "  <div id=\"df-1ab8db14-b967-4fbf-b016-3af81126729d\" class=\"colab-df-container\">\n",
              "    <div>\n",
              "<style scoped>\n",
              "    .dataframe tbody tr th:only-of-type {\n",
              "        vertical-align: middle;\n",
              "    }\n",
              "\n",
              "    .dataframe tbody tr th {\n",
              "        vertical-align: top;\n",
              "    }\n",
              "\n",
              "    .dataframe thead th {\n",
              "        text-align: right;\n",
              "    }\n",
              "</style>\n",
              "<table border=\"1\" class=\"dataframe\">\n",
              "  <thead>\n",
              "    <tr style=\"text-align: right;\">\n",
              "      <th></th>\n",
              "      <th>Unnamed: 0</th>\n",
              "      <th>date_hour</th>\n",
              "      <th>client</th>\n",
              "      <th>device_type</th>\n",
              "      <th>time_zone</th>\n",
              "      <th>os_name</th>\n",
              "      <th>browser_name</th>\n",
              "      <th>ad_unit</th>\n",
              "      <th>size</th>\n",
              "      <th>bidder</th>\n",
              "      <th>...</th>\n",
              "      <th>sum_time_to_respond</th>\n",
              "      <th>median</th>\n",
              "      <th>min_bid</th>\n",
              "      <th>max_bid</th>\n",
              "      <th>avg_bid</th>\n",
              "      <th>sum_2nd_highest_bid</th>\n",
              "      <th>sum_prebid_winning_bid</th>\n",
              "      <th>sum_winning_bid</th>\n",
              "      <th>sum_nobid</th>\n",
              "      <th>sum_timeout</th>\n",
              "    </tr>\n",
              "  </thead>\n",
              "  <tbody>\n",
              "    <tr>\n",
              "      <th>0</th>\n",
              "      <td>0</td>\n",
              "      <td>2021-04-11T01:00:00</td>\n",
              "      <td>asc126828</td>\n",
              "      <td>Desktop</td>\n",
              "      <td>America/Chicago</td>\n",
              "      <td>Linux</td>\n",
              "      <td>Chrome-85.04183133</td>\n",
              "      <td>div-gpt-ad-BT-D-Footers</td>\n",
              "      <td>728x90</td>\n",
              "      <td>onemobile</td>\n",
              "      <td>...</td>\n",
              "      <td>6614.0</td>\n",
              "      <td>NaN</td>\n",
              "      <td>0.58520</td>\n",
              "      <td>0.58520</td>\n",
              "      <td>0.585200</td>\n",
              "      <td>0.5852</td>\n",
              "      <td>0.5852</td>\n",
              "      <td>NaN</td>\n",
              "      <td>NaN</td>\n",
              "      <td>NaN</td>\n",
              "    </tr>\n",
              "    <tr>\n",
              "      <th>1</th>\n",
              "      <td>1</td>\n",
              "      <td>2021-04-11T01:00:00</td>\n",
              "      <td>asc126828</td>\n",
              "      <td>Desktop</td>\n",
              "      <td>America/Chicago</td>\n",
              "      <td>Linux</td>\n",
              "      <td>Chrome-85.04183133</td>\n",
              "      <td>div-gpt-ad-BT-D-Footers</td>\n",
              "      <td>728x90</td>\n",
              "      <td>rhythmone</td>\n",
              "      <td>...</td>\n",
              "      <td>5171.0</td>\n",
              "      <td>NaN</td>\n",
              "      <td>0.33945</td>\n",
              "      <td>0.34875</td>\n",
              "      <td>0.344100</td>\n",
              "      <td>NaN</td>\n",
              "      <td>NaN</td>\n",
              "      <td>NaN</td>\n",
              "      <td>NaN</td>\n",
              "      <td>NaN</td>\n",
              "    </tr>\n",
              "    <tr>\n",
              "      <th>2</th>\n",
              "      <td>2</td>\n",
              "      <td>2021-04-11T01:00:00</td>\n",
              "      <td>asc126828</td>\n",
              "      <td>Desktop</td>\n",
              "      <td>America/Chicago</td>\n",
              "      <td>Linux</td>\n",
              "      <td>Chrome-85.04183133</td>\n",
              "      <td>div-gpt-ad-BT-D-InLine-1</td>\n",
              "      <td>300x250</td>\n",
              "      <td>undertone</td>\n",
              "      <td>...</td>\n",
              "      <td>1523.0</td>\n",
              "      <td>NaN</td>\n",
              "      <td>0.96000</td>\n",
              "      <td>0.96000</td>\n",
              "      <td>0.960000</td>\n",
              "      <td>NaN</td>\n",
              "      <td>NaN</td>\n",
              "      <td>NaN</td>\n",
              "      <td>NaN</td>\n",
              "      <td>NaN</td>\n",
              "    </tr>\n",
              "    <tr>\n",
              "      <th>3</th>\n",
              "      <td>3</td>\n",
              "      <td>2021-04-11T01:00:00</td>\n",
              "      <td>asc126828</td>\n",
              "      <td>Desktop</td>\n",
              "      <td>America/Chicago</td>\n",
              "      <td>Linux</td>\n",
              "      <td>Chrome-85.04183133</td>\n",
              "      <td>div-gpt-ad-BT-D-O-300x250-1</td>\n",
              "      <td>300x250</td>\n",
              "      <td></td>\n",
              "      <td>...</td>\n",
              "      <td>NaN</td>\n",
              "      <td>NaN</td>\n",
              "      <td>NaN</td>\n",
              "      <td>NaN</td>\n",
              "      <td>NaN</td>\n",
              "      <td>NaN</td>\n",
              "      <td>NaN</td>\n",
              "      <td>NaN</td>\n",
              "      <td>NaN</td>\n",
              "      <td>NaN</td>\n",
              "    </tr>\n",
              "    <tr>\n",
              "      <th>4</th>\n",
              "      <td>4</td>\n",
              "      <td>2021-04-11T01:00:00</td>\n",
              "      <td>asc126828</td>\n",
              "      <td>Desktop</td>\n",
              "      <td>America/Chicago</td>\n",
              "      <td>Linux</td>\n",
              "      <td>Chrome-85.04183133</td>\n",
              "      <td>div-gpt-ad-BT-D-O-300x250-1</td>\n",
              "      <td>300x250</td>\n",
              "      <td>rhythmone</td>\n",
              "      <td>...</td>\n",
              "      <td>3570.0</td>\n",
              "      <td>0.34875</td>\n",
              "      <td>0.34410</td>\n",
              "      <td>0.34875</td>\n",
              "      <td>0.346425</td>\n",
              "      <td>NaN</td>\n",
              "      <td>NaN</td>\n",
              "      <td>NaN</td>\n",
              "      <td>NaN</td>\n",
              "      <td>NaN</td>\n",
              "    </tr>\n",
              "  </tbody>\n",
              "</table>\n",
              "<p>5 rows × 27 columns</p>\n",
              "</div>\n",
              "    <div class=\"colab-df-buttons\">\n",
              "\n",
              "  <div class=\"colab-df-container\">\n",
              "    <button class=\"colab-df-convert\" onclick=\"convertToInteractive('df-1ab8db14-b967-4fbf-b016-3af81126729d')\"\n",
              "            title=\"Convert this dataframe to an interactive table.\"\n",
              "            style=\"display:none;\">\n",
              "\n",
              "  <svg xmlns=\"http://www.w3.org/2000/svg\" height=\"24px\" viewBox=\"0 -960 960 960\">\n",
              "    <path d=\"M120-120v-720h720v720H120Zm60-500h600v-160H180v160Zm220 220h160v-160H400v160Zm0 220h160v-160H400v160ZM180-400h160v-160H180v160Zm440 0h160v-160H620v160ZM180-180h160v-160H180v160Zm440 0h160v-160H620v160Z\"/>\n",
              "  </svg>\n",
              "    </button>\n",
              "\n",
              "  <style>\n",
              "    .colab-df-container {\n",
              "      display:flex;\n",
              "      gap: 12px;\n",
              "    }\n",
              "\n",
              "    .colab-df-convert {\n",
              "      background-color: #E8F0FE;\n",
              "      border: none;\n",
              "      border-radius: 50%;\n",
              "      cursor: pointer;\n",
              "      display: none;\n",
              "      fill: #1967D2;\n",
              "      height: 32px;\n",
              "      padding: 0 0 0 0;\n",
              "      width: 32px;\n",
              "    }\n",
              "\n",
              "    .colab-df-convert:hover {\n",
              "      background-color: #E2EBFA;\n",
              "      box-shadow: 0px 1px 2px rgba(60, 64, 67, 0.3), 0px 1px 3px 1px rgba(60, 64, 67, 0.15);\n",
              "      fill: #174EA6;\n",
              "    }\n",
              "\n",
              "    .colab-df-buttons div {\n",
              "      margin-bottom: 4px;\n",
              "    }\n",
              "\n",
              "    [theme=dark] .colab-df-convert {\n",
              "      background-color: #3B4455;\n",
              "      fill: #D2E3FC;\n",
              "    }\n",
              "\n",
              "    [theme=dark] .colab-df-convert:hover {\n",
              "      background-color: #434B5C;\n",
              "      box-shadow: 0px 1px 3px 1px rgba(0, 0, 0, 0.15);\n",
              "      filter: drop-shadow(0px 1px 2px rgba(0, 0, 0, 0.3));\n",
              "      fill: #FFFFFF;\n",
              "    }\n",
              "  </style>\n",
              "\n",
              "    <script>\n",
              "      const buttonEl =\n",
              "        document.querySelector('#df-1ab8db14-b967-4fbf-b016-3af81126729d button.colab-df-convert');\n",
              "      buttonEl.style.display =\n",
              "        google.colab.kernel.accessAllowed ? 'block' : 'none';\n",
              "\n",
              "      async function convertToInteractive(key) {\n",
              "        const element = document.querySelector('#df-1ab8db14-b967-4fbf-b016-3af81126729d');\n",
              "        const dataTable =\n",
              "          await google.colab.kernel.invokeFunction('convertToInteractive',\n",
              "                                                    [key], {});\n",
              "        if (!dataTable) return;\n",
              "\n",
              "        const docLinkHtml = 'Like what you see? Visit the ' +\n",
              "          '<a target=\"_blank\" href=https://colab.research.google.com/notebooks/data_table.ipynb>data table notebook</a>'\n",
              "          + ' to learn more about interactive tables.';\n",
              "        element.innerHTML = '';\n",
              "        dataTable['output_type'] = 'display_data';\n",
              "        await google.colab.output.renderOutput(dataTable, element);\n",
              "        const docLink = document.createElement('div');\n",
              "        docLink.innerHTML = docLinkHtml;\n",
              "        element.appendChild(docLink);\n",
              "      }\n",
              "    </script>\n",
              "  </div>\n",
              "\n",
              "\n",
              "<div id=\"df-fa3cc1e5-2fae-4688-a784-afd36c682284\">\n",
              "  <button class=\"colab-df-quickchart\" onclick=\"quickchart('df-fa3cc1e5-2fae-4688-a784-afd36c682284')\"\n",
              "            title=\"Suggest charts\"\n",
              "            style=\"display:none;\">\n",
              "\n",
              "<svg xmlns=\"http://www.w3.org/2000/svg\" height=\"24px\"viewBox=\"0 0 24 24\"\n",
              "     width=\"24px\">\n",
              "    <g>\n",
              "        <path d=\"M19 3H5c-1.1 0-2 .9-2 2v14c0 1.1.9 2 2 2h14c1.1 0 2-.9 2-2V5c0-1.1-.9-2-2-2zM9 17H7v-7h2v7zm4 0h-2V7h2v10zm4 0h-2v-4h2v4z\"/>\n",
              "    </g>\n",
              "</svg>\n",
              "  </button>\n",
              "\n",
              "<style>\n",
              "  .colab-df-quickchart {\n",
              "      --bg-color: #E8F0FE;\n",
              "      --fill-color: #1967D2;\n",
              "      --hover-bg-color: #E2EBFA;\n",
              "      --hover-fill-color: #174EA6;\n",
              "      --disabled-fill-color: #AAA;\n",
              "      --disabled-bg-color: #DDD;\n",
              "  }\n",
              "\n",
              "  [theme=dark] .colab-df-quickchart {\n",
              "      --bg-color: #3B4455;\n",
              "      --fill-color: #D2E3FC;\n",
              "      --hover-bg-color: #434B5C;\n",
              "      --hover-fill-color: #FFFFFF;\n",
              "      --disabled-bg-color: #3B4455;\n",
              "      --disabled-fill-color: #666;\n",
              "  }\n",
              "\n",
              "  .colab-df-quickchart {\n",
              "    background-color: var(--bg-color);\n",
              "    border: none;\n",
              "    border-radius: 50%;\n",
              "    cursor: pointer;\n",
              "    display: none;\n",
              "    fill: var(--fill-color);\n",
              "    height: 32px;\n",
              "    padding: 0;\n",
              "    width: 32px;\n",
              "  }\n",
              "\n",
              "  .colab-df-quickchart:hover {\n",
              "    background-color: var(--hover-bg-color);\n",
              "    box-shadow: 0 1px 2px rgba(60, 64, 67, 0.3), 0 1px 3px 1px rgba(60, 64, 67, 0.15);\n",
              "    fill: var(--button-hover-fill-color);\n",
              "  }\n",
              "\n",
              "  .colab-df-quickchart-complete:disabled,\n",
              "  .colab-df-quickchart-complete:disabled:hover {\n",
              "    background-color: var(--disabled-bg-color);\n",
              "    fill: var(--disabled-fill-color);\n",
              "    box-shadow: none;\n",
              "  }\n",
              "\n",
              "  .colab-df-spinner {\n",
              "    border: 2px solid var(--fill-color);\n",
              "    border-color: transparent;\n",
              "    border-bottom-color: var(--fill-color);\n",
              "    animation:\n",
              "      spin 1s steps(1) infinite;\n",
              "  }\n",
              "\n",
              "  @keyframes spin {\n",
              "    0% {\n",
              "      border-color: transparent;\n",
              "      border-bottom-color: var(--fill-color);\n",
              "      border-left-color: var(--fill-color);\n",
              "    }\n",
              "    20% {\n",
              "      border-color: transparent;\n",
              "      border-left-color: var(--fill-color);\n",
              "      border-top-color: var(--fill-color);\n",
              "    }\n",
              "    30% {\n",
              "      border-color: transparent;\n",
              "      border-left-color: var(--fill-color);\n",
              "      border-top-color: var(--fill-color);\n",
              "      border-right-color: var(--fill-color);\n",
              "    }\n",
              "    40% {\n",
              "      border-color: transparent;\n",
              "      border-right-color: var(--fill-color);\n",
              "      border-top-color: var(--fill-color);\n",
              "    }\n",
              "    60% {\n",
              "      border-color: transparent;\n",
              "      border-right-color: var(--fill-color);\n",
              "    }\n",
              "    80% {\n",
              "      border-color: transparent;\n",
              "      border-right-color: var(--fill-color);\n",
              "      border-bottom-color: var(--fill-color);\n",
              "    }\n",
              "    90% {\n",
              "      border-color: transparent;\n",
              "      border-bottom-color: var(--fill-color);\n",
              "    }\n",
              "  }\n",
              "</style>\n",
              "\n",
              "  <script>\n",
              "    async function quickchart(key) {\n",
              "      const quickchartButtonEl =\n",
              "        document.querySelector('#' + key + ' button');\n",
              "      quickchartButtonEl.disabled = true;  // To prevent multiple clicks.\n",
              "      quickchartButtonEl.classList.add('colab-df-spinner');\n",
              "      try {\n",
              "        const charts = await google.colab.kernel.invokeFunction(\n",
              "            'suggestCharts', [key], {});\n",
              "      } catch (error) {\n",
              "        console.error('Error during call to suggestCharts:', error);\n",
              "      }\n",
              "      quickchartButtonEl.classList.remove('colab-df-spinner');\n",
              "      quickchartButtonEl.classList.add('colab-df-quickchart-complete');\n",
              "    }\n",
              "    (() => {\n",
              "      let quickchartButtonEl =\n",
              "        document.querySelector('#df-fa3cc1e5-2fae-4688-a784-afd36c682284 button');\n",
              "      quickchartButtonEl.style.display =\n",
              "        google.colab.kernel.accessAllowed ? 'block' : 'none';\n",
              "    })();\n",
              "  </script>\n",
              "</div>\n",
              "\n",
              "    </div>\n",
              "  </div>\n"
            ],
            "application/vnd.google.colaboratory.intrinsic+json": {
              "type": "dataframe",
              "variable_name": "df"
            }
          },
          "metadata": {},
          "execution_count": 3
        }
      ]
    },
    {
      "cell_type": "markdown",
      "source": [
        "# Drop rows with missing bidder name / blank names"
      ],
      "metadata": {
        "id": "sU_aoNxtZ7JO"
      }
    },
    {
      "cell_type": "code",
      "source": [
        "df_clean = df[df['bidder'].notna() & (df['bidder']!= '')]"
      ],
      "metadata": {
        "id": "PPri_y36W2BF"
      },
      "execution_count": 5,
      "outputs": []
    },
    {
      "cell_type": "code",
      "source": [
        "total_bids = df_clean['bidder'].value_counts().rename(\"total_bids\")"
      ],
      "metadata": {
        "id": "lNy8TBTwXds9"
      },
      "execution_count": 13,
      "outputs": []
    },
    {
      "cell_type": "code",
      "source": [
        "winning_bidders = df_clean [df_clean['sum_prebid_winning_bid'].notnull()]['bidder']"
      ],
      "metadata": {
        "id": "4No_WYmaXQ4x"
      },
      "execution_count": 14,
      "outputs": []
    },
    {
      "cell_type": "code",
      "source": [
        "win_counts= winning_bidders.value_counts().rename(\"wins\")\n"
      ],
      "metadata": {
        "id": "VAZ7S5DyYIjk"
      },
      "execution_count": 15,
      "outputs": []
    },
    {
      "cell_type": "code",
      "source": [
        "results = pd.concat([total_bids, win_counts], axis =1). fillna(0)"
      ],
      "metadata": {
        "id": "Rm3Bl5SMYUWI"
      },
      "execution_count": 16,
      "outputs": []
    },
    {
      "cell_type": "code",
      "source": [
        "results['win_rate']= results['wins']/ results ['total_bids']"
      ],
      "metadata": {
        "id": "UwvroJM3Yjfc"
      },
      "execution_count": 17,
      "outputs": []
    },
    {
      "cell_type": "code",
      "source": [
        "results_sorted = results.sort_values(by ='win_rate', ascending = False)"
      ],
      "metadata": {
        "id": "TO2qS0ahY-P2"
      },
      "execution_count": 18,
      "outputs": []
    },
    {
      "cell_type": "code",
      "source": [
        "top_bidder = results_sorted.head(2)"
      ],
      "metadata": {
        "id": "fhB52HNCZLNk"
      },
      "execution_count": 23,
      "outputs": []
    },
    {
      "cell_type": "code",
      "source": [
        "print(\"Bidder with highest win rate:\")"
      ],
      "metadata": {
        "colab": {
          "base_uri": "https://localhost:8080/"
        },
        "id": "kMq3jXnbZUHv",
        "outputId": "ed85e835-29f9-41f8-d832-6495c06330e5"
      },
      "execution_count": 24,
      "outputs": [
        {
          "output_type": "stream",
          "name": "stdout",
          "text": [
            "Bidder with highest win rate:\n"
          ]
        }
      ]
    },
    {
      "cell_type": "code",
      "source": [
        "print (top_bidder)"
      ],
      "metadata": {
        "colab": {
          "base_uri": "https://localhost:8080/"
        },
        "id": "lkSWWRRIZUBB",
        "outputId": "0bcd8c83-f262-4e51-c589-07b8a32b5b5e"
      },
      "execution_count": 25,
      "outputs": [
        {
          "output_type": "stream",
          "name": "stdout",
          "text": [
            "           total_bids  wins  win_rate\n",
            "bidder                               \n",
            "undertone          49  29.0  0.591837\n",
            "teads              48  28.0  0.583333\n"
          ]
        }
      ]
    },
    {
      "cell_type": "code",
      "source": [
        "results_sorted.to_csv(\"bidder_win_rate.csv\")"
      ],
      "metadata": {
        "id": "1MHwFBeJZT6T"
      },
      "execution_count": 22,
      "outputs": []
    },
    {
      "cell_type": "code",
      "source": [],
      "metadata": {
        "id": "x3WDb7bmZ2Sn"
      },
      "execution_count": null,
      "outputs": []
    }
  ]
}